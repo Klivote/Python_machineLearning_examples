{
 "cells": [
  {
   "cell_type": "markdown",
   "metadata": {},
   "source": [
    "### In this project, I will demo using a Kaggle competition dataset (taxi trips in NYC) how to work with csv files from scratch to carry out \n",
    "1. data exploration, \n",
    "2. variable treatment, \n",
    "3. feature variable selection/transformation and \n",
    "4. multiple types of modeling. "
   ]
  },
  {
   "cell_type": "markdown",
   "metadata": {},
   "source": [
    "##### (objective of this analysis is to predict trip duration using information given with best accuracy.)"
   ]
  },
  {
   "cell_type": "code",
   "execution_count": 308,
   "metadata": {
    "collapsed": true
   },
   "outputs": [],
   "source": [
    "taxiRides = open('train.csv')"
   ]
  },
  {
   "cell_type": "code",
   "execution_count": 309,
   "metadata": {
    "collapsed": false
   },
   "outputs": [
    {
     "data": {
      "text/plain": [
       "'id,vendor_id,pickup_datetime,dropoff_datetime,passenger_count,pickup_longitude,pickup_latitude,dropoff_longitude,dropoff_latitude,store_and_fwd_flag,trip_duration\\n'"
      ]
     },
     "execution_count": 309,
     "metadata": {},
     "output_type": "execute_result"
    }
   ],
   "source": [
    "Lines = taxiRides.readlines()\n",
    "Lines[0]"
   ]
  },
  {
   "cell_type": "code",
   "execution_count": 310,
   "metadata": {
    "collapsed": false
   },
   "outputs": [],
   "source": [
    "Lines=[(i.strip()) for i in Lines]\n",
    "Lines=[i.split(',') for i in Lines]"
   ]
  },
  {
   "cell_type": "code",
   "execution_count": 311,
   "metadata": {
    "collapsed": true
   },
   "outputs": [],
   "source": [
    "import pandas as pd\n",
    "rides = pd.DataFrame(Lines)"
   ]
  },
  {
   "cell_type": "code",
   "execution_count": 312,
   "metadata": {
    "collapsed": false
   },
   "outputs": [
    {
     "data": {
      "text/html": [
       "<div>\n",
       "<table border=\"1\" class=\"dataframe\">\n",
       "  <thead>\n",
       "    <tr style=\"text-align: right;\">\n",
       "      <th></th>\n",
       "      <th>id</th>\n",
       "      <th>vendor_id</th>\n",
       "      <th>pickup_datetime</th>\n",
       "      <th>dropoff_datetime</th>\n",
       "      <th>passenger_count</th>\n",
       "      <th>pickup_longitude</th>\n",
       "      <th>pickup_latitude</th>\n",
       "      <th>dropoff_longitude</th>\n",
       "      <th>dropoff_latitude</th>\n",
       "      <th>store_and_fwd_flag</th>\n",
       "      <th>trip_duration</th>\n",
       "    </tr>\n",
       "  </thead>\n",
       "  <tbody>\n",
       "    <tr>\n",
       "      <th>1</th>\n",
       "      <td>id2875421</td>\n",
       "      <td>2</td>\n",
       "      <td>2016-03-14 17:24:55</td>\n",
       "      <td>2016-03-14 17:32:30</td>\n",
       "      <td>1</td>\n",
       "      <td>-73.982154846191406</td>\n",
       "      <td>40.767936706542969</td>\n",
       "      <td>-73.964630126953125</td>\n",
       "      <td>40.765602111816406</td>\n",
       "      <td>N</td>\n",
       "      <td>455</td>\n",
       "    </tr>\n",
       "    <tr>\n",
       "      <th>2</th>\n",
       "      <td>id2377394</td>\n",
       "      <td>1</td>\n",
       "      <td>2016-06-12 00:43:35</td>\n",
       "      <td>2016-06-12 00:54:38</td>\n",
       "      <td>1</td>\n",
       "      <td>-73.980415344238281</td>\n",
       "      <td>40.738563537597656</td>\n",
       "      <td>-73.999481201171875</td>\n",
       "      <td>40.731151580810547</td>\n",
       "      <td>N</td>\n",
       "      <td>663</td>\n",
       "    </tr>\n",
       "    <tr>\n",
       "      <th>3</th>\n",
       "      <td>id3858529</td>\n",
       "      <td>2</td>\n",
       "      <td>2016-01-19 11:35:24</td>\n",
       "      <td>2016-01-19 12:10:48</td>\n",
       "      <td>1</td>\n",
       "      <td>-73.979026794433594</td>\n",
       "      <td>40.763938903808594</td>\n",
       "      <td>-74.005332946777344</td>\n",
       "      <td>40.710086822509766</td>\n",
       "      <td>N</td>\n",
       "      <td>2124</td>\n",
       "    </tr>\n",
       "    <tr>\n",
       "      <th>4</th>\n",
       "      <td>id3504673</td>\n",
       "      <td>2</td>\n",
       "      <td>2016-04-06 19:32:31</td>\n",
       "      <td>2016-04-06 19:39:40</td>\n",
       "      <td>1</td>\n",
       "      <td>-74.010040283203125</td>\n",
       "      <td>40.719970703125</td>\n",
       "      <td>-74.01226806640625</td>\n",
       "      <td>40.706718444824219</td>\n",
       "      <td>N</td>\n",
       "      <td>429</td>\n",
       "    </tr>\n",
       "    <tr>\n",
       "      <th>5</th>\n",
       "      <td>id2181028</td>\n",
       "      <td>2</td>\n",
       "      <td>2016-03-26 13:30:55</td>\n",
       "      <td>2016-03-26 13:38:10</td>\n",
       "      <td>1</td>\n",
       "      <td>-73.973052978515625</td>\n",
       "      <td>40.793209075927734</td>\n",
       "      <td>-73.972923278808594</td>\n",
       "      <td>40.782520294189453</td>\n",
       "      <td>N</td>\n",
       "      <td>435</td>\n",
       "    </tr>\n",
       "  </tbody>\n",
       "</table>\n",
       "</div>"
      ],
      "text/plain": [
       "          id vendor_id      pickup_datetime     dropoff_datetime  \\\n",
       "1  id2875421         2  2016-03-14 17:24:55  2016-03-14 17:32:30   \n",
       "2  id2377394         1  2016-06-12 00:43:35  2016-06-12 00:54:38   \n",
       "3  id3858529         2  2016-01-19 11:35:24  2016-01-19 12:10:48   \n",
       "4  id3504673         2  2016-04-06 19:32:31  2016-04-06 19:39:40   \n",
       "5  id2181028         2  2016-03-26 13:30:55  2016-03-26 13:38:10   \n",
       "\n",
       "  passenger_count     pickup_longitude     pickup_latitude  \\\n",
       "1               1  -73.982154846191406  40.767936706542969   \n",
       "2               1  -73.980415344238281  40.738563537597656   \n",
       "3               1  -73.979026794433594  40.763938903808594   \n",
       "4               1  -74.010040283203125     40.719970703125   \n",
       "5               1  -73.973052978515625  40.793209075927734   \n",
       "\n",
       "     dropoff_longitude    dropoff_latitude store_and_fwd_flag trip_duration  \n",
       "1  -73.964630126953125  40.765602111816406                  N           455  \n",
       "2  -73.999481201171875  40.731151580810547                  N           663  \n",
       "3  -74.005332946777344  40.710086822509766                  N          2124  \n",
       "4   -74.01226806640625  40.706718444824219                  N           429  \n",
       "5  -73.972923278808594  40.782520294189453                  N           435  "
      ]
     },
     "execution_count": 312,
     "metadata": {},
     "output_type": "execute_result"
    }
   ],
   "source": [
    "columns=Lines[0]\n",
    "rides.columns=columns\n",
    "rides=rides[1:]\n",
    "rides.head()"
   ]
  },
  {
   "cell_type": "markdown",
   "metadata": {},
   "source": [
    "###### After quickly reviewing all the column variables originally provided, to model trip duration, feature varirables may be derived from trip month, day of week, hour, taxi vendor, distance between origin and destination, and passenger count. Below are steps used to derive such variables if not originally available and conduct quick assessment of variable predictability.   "
   ]
  },
  {
   "cell_type": "code",
   "execution_count": 313,
   "metadata": {
    "collapsed": false
   },
   "outputs": [],
   "source": [
    "rides['year'] = rides.pickup_datetime.str.slice(0, 4)\n",
    "rides['month'] = rides.pickup_datetime.str.slice(5, 7)\n",
    "rides['day'] = rides.pickup_datetime.str.slice(8, 10)\n",
    "rides['hour'] = rides.pickup_datetime.str.slice(11, 13)"
   ]
  },
  {
   "cell_type": "code",
   "execution_count": 314,
   "metadata": {
    "collapsed": false
   },
   "outputs": [
    {
     "data": {
      "text/html": [
       "<div>\n",
       "<table border=\"1\" class=\"dataframe\">\n",
       "  <thead>\n",
       "    <tr style=\"text-align: right;\">\n",
       "      <th></th>\n",
       "      <th>id</th>\n",
       "      <th>vendor_id</th>\n",
       "      <th>pickup_datetime</th>\n",
       "      <th>dropoff_datetime</th>\n",
       "      <th>passenger_count</th>\n",
       "      <th>pickup_longitude</th>\n",
       "      <th>pickup_latitude</th>\n",
       "      <th>dropoff_longitude</th>\n",
       "      <th>dropoff_latitude</th>\n",
       "      <th>store_and_fwd_flag</th>\n",
       "      <th>trip_duration</th>\n",
       "      <th>year</th>\n",
       "      <th>month</th>\n",
       "      <th>day</th>\n",
       "      <th>hour</th>\n",
       "    </tr>\n",
       "  </thead>\n",
       "  <tbody>\n",
       "    <tr>\n",
       "      <th>1</th>\n",
       "      <td>id2875421</td>\n",
       "      <td>2</td>\n",
       "      <td>2016-03-14 17:24:55</td>\n",
       "      <td>2016-03-14 17:32:30</td>\n",
       "      <td>1</td>\n",
       "      <td>-73.982154846191406</td>\n",
       "      <td>40.767936706542969</td>\n",
       "      <td>-73.964630126953125</td>\n",
       "      <td>40.765602111816406</td>\n",
       "      <td>N</td>\n",
       "      <td>455</td>\n",
       "      <td>2016</td>\n",
       "      <td>03</td>\n",
       "      <td>14</td>\n",
       "      <td>17</td>\n",
       "    </tr>\n",
       "    <tr>\n",
       "      <th>2</th>\n",
       "      <td>id2377394</td>\n",
       "      <td>1</td>\n",
       "      <td>2016-06-12 00:43:35</td>\n",
       "      <td>2016-06-12 00:54:38</td>\n",
       "      <td>1</td>\n",
       "      <td>-73.980415344238281</td>\n",
       "      <td>40.738563537597656</td>\n",
       "      <td>-73.999481201171875</td>\n",
       "      <td>40.731151580810547</td>\n",
       "      <td>N</td>\n",
       "      <td>663</td>\n",
       "      <td>2016</td>\n",
       "      <td>06</td>\n",
       "      <td>12</td>\n",
       "      <td>00</td>\n",
       "    </tr>\n",
       "    <tr>\n",
       "      <th>3</th>\n",
       "      <td>id3858529</td>\n",
       "      <td>2</td>\n",
       "      <td>2016-01-19 11:35:24</td>\n",
       "      <td>2016-01-19 12:10:48</td>\n",
       "      <td>1</td>\n",
       "      <td>-73.979026794433594</td>\n",
       "      <td>40.763938903808594</td>\n",
       "      <td>-74.005332946777344</td>\n",
       "      <td>40.710086822509766</td>\n",
       "      <td>N</td>\n",
       "      <td>2124</td>\n",
       "      <td>2016</td>\n",
       "      <td>01</td>\n",
       "      <td>19</td>\n",
       "      <td>11</td>\n",
       "    </tr>\n",
       "    <tr>\n",
       "      <th>4</th>\n",
       "      <td>id3504673</td>\n",
       "      <td>2</td>\n",
       "      <td>2016-04-06 19:32:31</td>\n",
       "      <td>2016-04-06 19:39:40</td>\n",
       "      <td>1</td>\n",
       "      <td>-74.010040283203125</td>\n",
       "      <td>40.719970703125</td>\n",
       "      <td>-74.01226806640625</td>\n",
       "      <td>40.706718444824219</td>\n",
       "      <td>N</td>\n",
       "      <td>429</td>\n",
       "      <td>2016</td>\n",
       "      <td>04</td>\n",
       "      <td>06</td>\n",
       "      <td>19</td>\n",
       "    </tr>\n",
       "    <tr>\n",
       "      <th>5</th>\n",
       "      <td>id2181028</td>\n",
       "      <td>2</td>\n",
       "      <td>2016-03-26 13:30:55</td>\n",
       "      <td>2016-03-26 13:38:10</td>\n",
       "      <td>1</td>\n",
       "      <td>-73.973052978515625</td>\n",
       "      <td>40.793209075927734</td>\n",
       "      <td>-73.972923278808594</td>\n",
       "      <td>40.782520294189453</td>\n",
       "      <td>N</td>\n",
       "      <td>435</td>\n",
       "      <td>2016</td>\n",
       "      <td>03</td>\n",
       "      <td>26</td>\n",
       "      <td>13</td>\n",
       "    </tr>\n",
       "  </tbody>\n",
       "</table>\n",
       "</div>"
      ],
      "text/plain": [
       "          id vendor_id      pickup_datetime     dropoff_datetime  \\\n",
       "1  id2875421         2  2016-03-14 17:24:55  2016-03-14 17:32:30   \n",
       "2  id2377394         1  2016-06-12 00:43:35  2016-06-12 00:54:38   \n",
       "3  id3858529         2  2016-01-19 11:35:24  2016-01-19 12:10:48   \n",
       "4  id3504673         2  2016-04-06 19:32:31  2016-04-06 19:39:40   \n",
       "5  id2181028         2  2016-03-26 13:30:55  2016-03-26 13:38:10   \n",
       "\n",
       "  passenger_count     pickup_longitude     pickup_latitude  \\\n",
       "1               1  -73.982154846191406  40.767936706542969   \n",
       "2               1  -73.980415344238281  40.738563537597656   \n",
       "3               1  -73.979026794433594  40.763938903808594   \n",
       "4               1  -74.010040283203125     40.719970703125   \n",
       "5               1  -73.973052978515625  40.793209075927734   \n",
       "\n",
       "     dropoff_longitude    dropoff_latitude store_and_fwd_flag trip_duration  \\\n",
       "1  -73.964630126953125  40.765602111816406                  N           455   \n",
       "2  -73.999481201171875  40.731151580810547                  N           663   \n",
       "3  -74.005332946777344  40.710086822509766                  N          2124   \n",
       "4   -74.01226806640625  40.706718444824219                  N           429   \n",
       "5  -73.972923278808594  40.782520294189453                  N           435   \n",
       "\n",
       "   year month day hour  \n",
       "1  2016    03  14   17  \n",
       "2  2016    06  12   00  \n",
       "3  2016    01  19   11  \n",
       "4  2016    04  06   19  \n",
       "5  2016    03  26   13  "
      ]
     },
     "execution_count": 314,
     "metadata": {},
     "output_type": "execute_result"
    }
   ],
   "source": [
    "rides.head()"
   ]
  },
  {
   "cell_type": "code",
   "execution_count": 315,
   "metadata": {
    "collapsed": true
   },
   "outputs": [],
   "source": [
    "rides['year']=rides['year'].apply(pd.to_numeric)\n",
    "rides['month']=rides['month'].apply(pd.to_numeric)\n",
    "rides['hour']=rides['hour'].apply(pd.to_numeric)\n",
    "rides['trip_duration']=rides['trip_duration'].apply(pd.to_numeric)\n",
    "rides['day']=rides['day'].apply(pd.to_numeric)"
   ]
  },
  {
   "cell_type": "markdown",
   "metadata": {},
   "source": [
    "##### Looks like data cover first 6 months in 2016"
   ]
  },
  {
   "cell_type": "code",
   "execution_count": 316,
   "metadata": {
    "collapsed": false
   },
   "outputs": [
    {
     "data": {
      "text/plain": [
       "<matplotlib.axes._subplots.AxesSubplot at 0x1b5d5068320>"
      ]
     },
     "execution_count": 316,
     "metadata": {},
     "output_type": "execute_result"
    },
    {
     "data": {
      "image/png": "[encoded data removed]",
      "text/plain": [
       "<matplotlib.figure.Figure at 0x1b5d5068a58>"
      ]
     },
     "metadata": {},
     "output_type": "display_data"
    }
   ],
   "source": [
    "%matplotlib inline\n",
    "rides['year'].value_counts().plot(kind='bar')"
   ]
  },
  {
   "cell_type": "code",
   "execution_count": 317,
   "metadata": {
    "collapsed": false
   },
   "outputs": [
    {
     "data": {
      "text/plain": [
       "<matplotlib.axes._subplots.AxesSubplot at 0x1b5ac00f6d8>"
      ]
     },
     "execution_count": 317,
     "metadata": {},
     "output_type": "execute_result"
    },
    {
     "data": {
      "image/png": "[encoded data removed]",
      "text/plain": [
       "<matplotlib.figure.Figure at 0x1b5c8fa72b0>"
      ]
     },
     "metadata": {},
     "output_type": "display_data"
    }
   ],
   "source": [
    "%matplotlib inline\n",
    "rides['month'].value_counts().plot(kind='bar')"
   ]
  },
  {
   "cell_type": "code",
   "execution_count": 318,
   "metadata": {
    "collapsed": false
   },
   "outputs": [
    {
     "data": {
      "text/plain": [
       "<matplotlib.axes._subplots.AxesSubplot at 0x1b55de387b8>"
      ]
     },
     "execution_count": 318,
     "metadata": {},
     "output_type": "execute_result"
    },
    {
     "data": {
      "image/png": "[encoded data removed]",
      "text/plain": [
       "<matplotlib.figure.Figure at 0x1b62c2a8ba8>"
      ]
     },
     "metadata": {},
     "output_type": "display_data"
    }
   ],
   "source": [
    "%matplotlib inline\n",
    "rides['hour'].value_counts().plot(kind='bar')"
   ]
  },
  {
   "cell_type": "code",
   "execution_count": 319,
   "metadata": {
    "collapsed": false
   },
   "outputs": [
    {
     "data": {
      "text/plain": [
       "<matplotlib.axes._subplots.AxesSubplot at 0x1b5c8fa5cf8>"
      ]
     },
     "execution_count": 319,
     "metadata": {},
     "output_type": "execute_result"
    },
    {
     "data": {
      "image/png": "[encoded data removed]",
      "text/plain": [
       "<matplotlib.figure.Figure at 0x1b5553a2c50>"
      ]
     },
     "metadata": {},
     "output_type": "display_data"
    }
   ],
   "source": [
    "%matplotlib inline\n",
    "rides['vendor_id'].value_counts().plot(kind='bar')"
   ]
  },
  {
   "cell_type": "code",
   "execution_count": 320,
   "metadata": {
    "collapsed": false
   },
   "outputs": [
    {
     "data": {
      "text/plain": [
       "<matplotlib.axes._subplots.AxesSubplot at 0x1b5ad6d85c0>"
      ]
     },
     "execution_count": 320,
     "metadata": {},
     "output_type": "execute_result"
    },
    {
     "data": {
      "image/png": "[encoded data removed]",
      "text/plain": [
       "<matplotlib.figure.Figure at 0x1b5ad732588>"
      ]
     },
     "metadata": {},
     "output_type": "display_data"
    }
   ],
   "source": [
    "%matplotlib inline\n",
    "rides['passenger_count'].value_counts().plot(kind='bar')"
   ]
  },
  {
   "cell_type": "code",
   "execution_count": 325,
   "metadata": {
    "collapsed": false
   },
   "outputs": [
    {
     "data": {
      "text/html": [
       "<div>\n",
       "<table border=\"1\" class=\"dataframe\">\n",
       "  <thead>\n",
       "    <tr style=\"text-align: right;\">\n",
       "      <th></th>\n",
       "      <th>id</th>\n",
       "      <th>vendor_id</th>\n",
       "      <th>pickup_datetime</th>\n",
       "      <th>dropoff_datetime</th>\n",
       "      <th>passenger_count</th>\n",
       "      <th>pickup_longitude</th>\n",
       "      <th>pickup_latitude</th>\n",
       "      <th>dropoff_longitude</th>\n",
       "      <th>dropoff_latitude</th>\n",
       "      <th>store_and_fwd_flag</th>\n",
       "      <th>trip_duration</th>\n",
       "      <th>year</th>\n",
       "      <th>month</th>\n",
       "      <th>day</th>\n",
       "      <th>hour</th>\n",
       "      <th>cumudays</th>\n",
       "      <th>dayofweek</th>\n",
       "    </tr>\n",
       "  </thead>\n",
       "  <tbody>\n",
       "    <tr>\n",
       "      <th>1</th>\n",
       "      <td>id2875421</td>\n",
       "      <td>2</td>\n",
       "      <td>2016-03-14 17:24:55</td>\n",
       "      <td>2016-03-14 17:32:30</td>\n",
       "      <td>1</td>\n",
       "      <td>-73.982154846191406</td>\n",
       "      <td>40.767936706542969</td>\n",
       "      <td>-73.964630126953125</td>\n",
       "      <td>40.765602111816406</td>\n",
       "      <td>N</td>\n",
       "      <td>455</td>\n",
       "      <td>2016</td>\n",
       "      <td>3</td>\n",
       "      <td>14</td>\n",
       "      <td>17</td>\n",
       "      <td>74</td>\n",
       "      <td>1</td>\n",
       "    </tr>\n",
       "    <tr>\n",
       "      <th>2</th>\n",
       "      <td>id2377394</td>\n",
       "      <td>1</td>\n",
       "      <td>2016-06-12 00:43:35</td>\n",
       "      <td>2016-06-12 00:54:38</td>\n",
       "      <td>1</td>\n",
       "      <td>-73.980415344238281</td>\n",
       "      <td>40.738563537597656</td>\n",
       "      <td>-73.999481201171875</td>\n",
       "      <td>40.731151580810547</td>\n",
       "      <td>N</td>\n",
       "      <td>663</td>\n",
       "      <td>2016</td>\n",
       "      <td>6</td>\n",
       "      <td>12</td>\n",
       "      <td>0</td>\n",
       "      <td>164</td>\n",
       "      <td>7</td>\n",
       "    </tr>\n",
       "    <tr>\n",
       "      <th>3</th>\n",
       "      <td>id3858529</td>\n",
       "      <td>2</td>\n",
       "      <td>2016-01-19 11:35:24</td>\n",
       "      <td>2016-01-19 12:10:48</td>\n",
       "      <td>1</td>\n",
       "      <td>-73.979026794433594</td>\n",
       "      <td>40.763938903808594</td>\n",
       "      <td>-74.005332946777344</td>\n",
       "      <td>40.710086822509766</td>\n",
       "      <td>N</td>\n",
       "      <td>2124</td>\n",
       "      <td>2016</td>\n",
       "      <td>1</td>\n",
       "      <td>19</td>\n",
       "      <td>11</td>\n",
       "      <td>19</td>\n",
       "      <td>2</td>\n",
       "    </tr>\n",
       "    <tr>\n",
       "      <th>4</th>\n",
       "      <td>id3504673</td>\n",
       "      <td>2</td>\n",
       "      <td>2016-04-06 19:32:31</td>\n",
       "      <td>2016-04-06 19:39:40</td>\n",
       "      <td>1</td>\n",
       "      <td>-74.010040283203125</td>\n",
       "      <td>40.719970703125</td>\n",
       "      <td>-74.01226806640625</td>\n",
       "      <td>40.706718444824219</td>\n",
       "      <td>N</td>\n",
       "      <td>429</td>\n",
       "      <td>2016</td>\n",
       "      <td>4</td>\n",
       "      <td>6</td>\n",
       "      <td>19</td>\n",
       "      <td>97</td>\n",
       "      <td>3</td>\n",
       "    </tr>\n",
       "    <tr>\n",
       "      <th>5</th>\n",
       "      <td>id2181028</td>\n",
       "      <td>2</td>\n",
       "      <td>2016-03-26 13:30:55</td>\n",
       "      <td>2016-03-26 13:38:10</td>\n",
       "      <td>1</td>\n",
       "      <td>-73.973052978515625</td>\n",
       "      <td>40.793209075927734</td>\n",
       "      <td>-73.972923278808594</td>\n",
       "      <td>40.782520294189453</td>\n",
       "      <td>N</td>\n",
       "      <td>435</td>\n",
       "      <td>2016</td>\n",
       "      <td>3</td>\n",
       "      <td>26</td>\n",
       "      <td>13</td>\n",
       "      <td>86</td>\n",
       "      <td>6</td>\n",
       "    </tr>\n",
       "  </tbody>\n",
       "</table>\n",
       "</div>"
      ],
      "text/plain": [
       "          id vendor_id      pickup_datetime     dropoff_datetime  \\\n",
       "1  id2875421         2  2016-03-14 17:24:55  2016-03-14 17:32:30   \n",
       "2  id2377394         1  2016-06-12 00:43:35  2016-06-12 00:54:38   \n",
       "3  id3858529         2  2016-01-19 11:35:24  2016-01-19 12:10:48   \n",
       "4  id3504673         2  2016-04-06 19:32:31  2016-04-06 19:39:40   \n",
       "5  id2181028         2  2016-03-26 13:30:55  2016-03-26 13:38:10   \n",
       "\n",
       "  passenger_count     pickup_longitude     pickup_latitude  \\\n",
       "1               1  -73.982154846191406  40.767936706542969   \n",
       "2               1  -73.980415344238281  40.738563537597656   \n",
       "3               1  -73.979026794433594  40.763938903808594   \n",
       "4               1  -74.010040283203125     40.719970703125   \n",
       "5               1  -73.973052978515625  40.793209075927734   \n",
       "\n",
       "     dropoff_longitude    dropoff_latitude store_and_fwd_flag  trip_duration  \\\n",
       "1  -73.964630126953125  40.765602111816406                  N            455   \n",
       "2  -73.999481201171875  40.731151580810547                  N            663   \n",
       "3  -74.005332946777344  40.710086822509766                  N           2124   \n",
       "4   -74.01226806640625  40.706718444824219                  N            429   \n",
       "5  -73.972923278808594  40.782520294189453                  N            435   \n",
       "\n",
       "   year  month  day  hour  cumudays  dayofweek  \n",
       "1  2016      3   14    17        74          1  \n",
       "2  2016      6   12     0       164          7  \n",
       "3  2016      1   19    11        19          2  \n",
       "4  2016      4    6    19        97          3  \n",
       "5  2016      3   26    13        86          6  "
      ]
     },
     "execution_count": 325,
     "metadata": {},
     "output_type": "execute_result"
    }
   ],
   "source": [
    "rides.head()"
   ]
  },
  {
   "cell_type": "code",
   "execution_count": 324,
   "metadata": {
    "collapsed": false
   },
   "outputs": [],
   "source": [
    "rides['cumudays']=rides['day']\n",
    "rides['cumudays']=np.where(rides['month']==1,rides['day'],rides['cumudays'])\n",
    "rides['cumudays']=np.where(rides['month']==2,31+rides['day'],rides['cumudays'])\n",
    "rides['cumudays']=np.where(rides['month']==3,31+29+rides['day'],rides['cumudays'])\n",
    "rides['cumudays']=np.where(rides['month']==4,31+29+31+rides['day'],rides['cumudays'])\n",
    "rides['cumudays']=np.where(rides['month']==5,31+29+31+30+rides['day'],rides['cumudays'])\n",
    "rides['cumudays']=np.where(rides['month']==6,31+29+31+30+31+rides['day'],rides['cumudays'])\n",
    "rides['dayofweek']=(rides['cumudays']%7+4)%7\n",
    "rides['dayofweek']=np.where(rides['dayofweek']==0,7,rides['dayofweek'])"
   ]
  },
  {
   "cell_type": "code",
   "execution_count": 326,
   "metadata": {
    "collapsed": false
   },
   "outputs": [
    {
     "data": {
      "text/plain": [
       "<matplotlib.axes._subplots.AxesSubplot at 0x1b5c29e17f0>"
      ]
     },
     "execution_count": 326,
     "metadata": {},
     "output_type": "execute_result"
    },
    {
     "data": {
      "image/png": "[encoded data removed]",
      "text/plain": [
       "<matplotlib.figure.Figure at 0x1b5ad821d68>"
      ]
     },
     "metadata": {},
     "output_type": "display_data"
    }
   ],
   "source": [
    "%matplotlib inline\n",
    "rides['dayofweek'].value_counts().plot(kind='bar')"
   ]
  },
  {
   "cell_type": "code",
   "execution_count": 327,
   "metadata": {
    "collapsed": false
   },
   "outputs": [],
   "source": [
    "rides['passenger_cat']='3'\n",
    "rides['passenger_cat']=np.where(rides['passenger_count']=='2', '2', rides['passenger_cat'])\n",
    "rides['passenger_cat']=np.where(rides['passenger_count']=='1', '1', rides['passenger_cat'])"
   ]
  },
  {
   "cell_type": "code",
   "execution_count": 328,
   "metadata": {
    "collapsed": false
   },
   "outputs": [
    {
     "data": {
      "text/plain": [
       "<matplotlib.axes._subplots.AxesSubplot at 0x1b5c29e45f8>"
      ]
     },
     "execution_count": 328,
     "metadata": {},
     "output_type": "execute_result"
    },
    {
     "data": {
      "image/png": "[encoded data removed]",
      "text/plain": [
       "<matplotlib.figure.Figure at 0x1b5ad8a4470>"
      ]
     },
     "metadata": {},
     "output_type": "display_data"
    }
   ],
   "source": [
    "%matplotlib inline\n",
    "rides['passenger_cat'].value_counts().plot(kind='bar')"
   ]
  },
  {
   "cell_type": "code",
   "execution_count": 329,
   "metadata": {
    "collapsed": false
   },
   "outputs": [
    {
     "data": {
      "text/plain": [
       "<matplotlib.axes._subplots.AxesSubplot at 0x1b5ad8b2cc0>"
      ]
     },
     "execution_count": 329,
     "metadata": {},
     "output_type": "execute_result"
    },
    {
     "data": {
      "image/png": "[encoded data removed]",
      "text/plain": [
       "<matplotlib.figure.Figure at 0x1b5ad9322b0>"
      ]
     },
     "metadata": {},
     "output_type": "display_data"
    }
   ],
   "source": [
    "%matplotlib inline\n",
    "rides['store_and_fwd_flag'].value_counts().plot(kind='bar')"
   ]
  },
  {
   "cell_type": "markdown",
   "metadata": {},
   "source": [
    "##### Now we want to focus on the only two continuous variables trip duration and distance (derived below). We need to check on the variable distribution and potential correlation between the two. Since the data didn't provide actualy path taken for the taxi trip, we use haversine distance between pickup and dropoff as surrogate measure for actual distance. "
   ]
  },
  {
   "cell_type": "code",
   "execution_count": 330,
   "metadata": {
    "collapsed": false
   },
   "outputs": [
    {
     "data": {
      "image/png": "[encoded data removed]",
      "text/plain": [
       "<matplotlib.figure.Figure at 0x1b5b05df7f0>"
      ]
     },
     "metadata": {},
     "output_type": "display_data"
    }
   ],
   "source": [
    "%matplotlib inline\n",
    "rides.trip_duration.hist()\n",
    "plt.show()"
   ]
  },
  {
   "cell_type": "code",
   "execution_count": 331,
   "metadata": {
    "collapsed": false
   },
   "outputs": [
    {
     "data": {
      "text/plain": [
       "count    1.458644e+06\n",
       "mean     9.594923e+02\n",
       "std      5.237432e+03\n",
       "min      1.000000e+00\n",
       "25%      3.970000e+02\n",
       "50%      6.620000e+02\n",
       "75%      1.075000e+03\n",
       "max      3.526282e+06\n",
       "Name: trip_duration, dtype: float64"
      ]
     },
     "execution_count": 331,
     "metadata": {},
     "output_type": "execute_result"
    }
   ],
   "source": [
    "rides['trip_duration'].describe()"
   ]
  },
  {
   "cell_type": "code",
   "execution_count": 338,
   "metadata": {
    "collapsed": true
   },
   "outputs": [],
   "source": [
    "import numpy as np\n",
    "\n",
    "def haversine(lon1, lat1, lon2, lat2):\n",
    "    \"\"\"\n",
    "    Calculate the great circle distance between two points\n",
    "    on the earth (specified in decimal degrees)\n",
    "\n",
    "    All args must be of equal length.    \n",
    "\n",
    "    \"\"\"\n",
    "    lon1, lat1, lon2, lat2 = map(np.radians, [lon1, lat1, lon2, lat2])\n",
    "\n",
    "    dlon = lon2 - lon1\n",
    "    dlat = lat2 - lat1\n",
    "\n",
    "    a = np.sin(dlat/2.0)**2 + np.cos(lat1) * np.cos(lat2) * np.sin(dlon/2.0)**2\n",
    "\n",
    "    c = 2 * np.arcsin(np.sqrt(a))\n",
    "    km = 6367 * c\n",
    "    return km"
   ]
  },
  {
   "cell_type": "code",
   "execution_count": 339,
   "metadata": {
    "collapsed": false
   },
   "outputs": [],
   "source": [
    "rides['pickup_longitude']=rides['pickup_longitude'].apply(pd.to_numeric)\n",
    "rides['pickup_latitude']=rides['pickup_latitude'].apply(pd.to_numeric)\n",
    "rides['dropoff_longitude']=rides['dropoff_longitude'].apply(pd.to_numeric)\n",
    "rides['dropoff_latitude']=rides['dropoff_latitude'].apply(pd.to_numeric)\n",
    "rides['distance'] = haversine(rides['pickup_longitude'],rides['pickup_latitude'],rides['dropoff_longitude'],rides['dropoff_latitude'])"
   ]
  },
  {
   "cell_type": "code",
   "execution_count": 340,
   "metadata": {
    "collapsed": false
   },
   "outputs": [
    {
     "name": "stderr",
     "output_type": "stream",
     "text": [
      "C:\\Users\\bonos\\Anaconda3\\lib\\site-packages\\ipykernel\\__main__.py:1: FutureWarning: sort(columns=....) is deprecated, use sort_values(by=.....)\n",
      "  if __name__ == '__main__':\n"
     ]
    },
    {
     "data": {
      "text/plain": [
       "<matplotlib.axes._subplots.AxesSubplot at 0x1b5b0690240>"
      ]
     },
     "execution_count": 340,
     "metadata": {},
     "output_type": "execute_result"
    },
    {
     "data": {
      "image/png": "[encoded data removed]",
      "text/plain": [
       "<matplotlib.figure.Figure at 0x1b5b069f588>"
      ]
     },
     "metadata": {},
     "output_type": "display_data"
    }
   ],
   "source": [
    "rides2=rides.sort(['distance'])\n",
    "rides2.plot(x='distance', y='trip_duration', marker='.')"
   ]
  },
  {
   "cell_type": "markdown",
   "metadata": {},
   "source": [
    "##### When we plotted trip duration against distance (seen above), some extreme outliers stood out to have occurred to both variables. Therefore below we will check quickly quantiles of distance and trip duration to cap and floor at a reasonable level so impact of extreme outliers is eliminated. "
   ]
  },
  {
   "cell_type": "code",
   "execution_count": 350,
   "metadata": {
    "collapsed": false
   },
   "outputs": [
    {
     "data": {
      "text/plain": [
       "20.77"
      ]
     },
     "execution_count": 350,
     "metadata": {},
     "output_type": "execute_result"
    }
   ],
   "source": [
    "rides['distance'].quantile(1)"
   ]
  },
  {
   "cell_type": "code",
   "execution_count": 351,
   "metadata": {
    "collapsed": false
   },
   "outputs": [
    {
     "data": {
      "text/plain": [
       "3440.0"
      ]
     },
     "execution_count": 351,
     "metadata": {},
     "output_type": "execute_result"
    }
   ],
   "source": [
    "rides['trip_duration'].quantile(1)"
   ]
  },
  {
   "cell_type": "code",
   "execution_count": 349,
   "metadata": {
    "collapsed": true
   },
   "outputs": [],
   "source": [
    "rides['distance']=np.where(rides['distance']<=0.139,0.139,rides['distance'])\n",
    "rides['distance']=np.where(rides['distance']>=20.77,20.77,rides['distance'])\n",
    "rides['trip_duration']=np.where(rides['trip_duration']<=87,87,rides['trip_duration'])\n",
    "rides['trip_duration']=np.where(rides['trip_duration']>=3440,3440,rides['trip_duration'])"
   ]
  },
  {
   "cell_type": "markdown",
   "metadata": {},
   "source": [
    "##### Comparing the distance, trip duration plots from before and after outlier treatment shows a significant improvement in exhibiting the relationship between the two. Overall, there is an increasing linear relationship between distance and trip duration. But since the real distance could be much longer than haversine distance due to path taken there is a trememdous variation in trip duration for each level of distance. Moreover, traffic condition could also play a role in how long a taxi trip takes. So we will include time and trip related variables as mentioned earlier in the model hoping to account for some of such variation. "
   ]
  },
  {
   "cell_type": "code",
   "execution_count": 352,
   "metadata": {
    "collapsed": false
   },
   "outputs": [
    {
     "name": "stderr",
     "output_type": "stream",
     "text": [
      "C:\\Users\\bonos\\Anaconda3\\lib\\site-packages\\ipykernel\\__main__.py:1: FutureWarning: sort(columns=....) is deprecated, use sort_values(by=.....)\n",
      "  if __name__ == '__main__':\n"
     ]
    },
    {
     "data": {
      "text/plain": [
       "<matplotlib.axes._subplots.AxesSubplot at 0x1b5ae4898d0>"
      ]
     },
     "execution_count": 352,
     "metadata": {},
     "output_type": "execute_result"
    },
    {
     "data": {
      "image/png": "[encoded data removed]",
      "text/plain": [
       "<matplotlib.figure.Figure at 0x1b5edc7e7f0>"
      ]
     },
     "metadata": {},
     "output_type": "display_data"
    }
   ],
   "source": [
    "rides2=rides.sort(['distance'])\n",
    "rides2.plot(x='distance', y='trip_duration', marker='.')"
   ]
  },
  {
   "cell_type": "markdown",
   "metadata": {},
   "source": [
    "##### Next we will create dummy variables based off category variables such as month, day of week, vendor and passenger count. "
   ]
  },
  {
   "cell_type": "code",
   "execution_count": 353,
   "metadata": {
    "collapsed": true
   },
   "outputs": [],
   "source": [
    "cat_vars=['vendor_id','month','hour','dayofweek','passenger_cat']\n",
    "for var in cat_vars:\n",
    "    cat_list='var'+'_'+var\n",
    "    cat_list = pd.get_dummies(rides[var], prefix=var)\n",
    "    rides1=rides.join(cat_list)\n",
    "    rides=rides1\n",
    "\n",
    "cat_vars=['vendor_id','month','hour','dayofweek','passenger_cat']\n",
    "data_vars=rides.columns.values.tolist()\n",
    "to_keep=[i for i in data_vars if i not in cat_vars]"
   ]
  },
  {
   "cell_type": "code",
   "execution_count": 354,
   "metadata": {
    "collapsed": false
   },
   "outputs": [
    {
     "data": {
      "text/plain": [
       "array(['id', 'pickup_datetime', 'dropoff_datetime', 'passenger_count',\n",
       "       'pickup_longitude', 'pickup_latitude', 'dropoff_longitude',\n",
       "       'dropoff_latitude', 'store_and_fwd_flag', 'trip_duration', 'year',\n",
       "       'day', 'cumudays', 'distance', 'vendor_id_1', 'vendor_id_2',\n",
       "       'month_1', 'month_2', 'month_3', 'month_4', 'month_5', 'month_6',\n",
       "       'hour_0', 'hour_1', 'hour_2', 'hour_3', 'hour_4', 'hour_5',\n",
       "       'hour_6', 'hour_7', 'hour_8', 'hour_9', 'hour_10', 'hour_11',\n",
       "       'hour_12', 'hour_13', 'hour_14', 'hour_15', 'hour_16', 'hour_17',\n",
       "       'hour_18', 'hour_19', 'hour_20', 'hour_21', 'hour_22', 'hour_23',\n",
       "       'dayofweek_1', 'dayofweek_2', 'dayofweek_3', 'dayofweek_4',\n",
       "       'dayofweek_5', 'dayofweek_6', 'dayofweek_7', 'passenger_cat_1',\n",
       "       'passenger_cat_2', 'passenger_cat_3'], dtype=object)"
      ]
     },
     "execution_count": 354,
     "metadata": {},
     "output_type": "execute_result"
    }
   ],
   "source": [
    "rides_final=rides[to_keep]\n",
    "rides_final.columns.values"
   ]
  },
  {
   "cell_type": "code",
   "execution_count": 355,
   "metadata": {
    "collapsed": false
   },
   "outputs": [],
   "source": [
    "rides_final=rides_final.drop(['id', 'pickup_datetime', 'dropoff_datetime', 'passenger_count', 'pickup_longitude', 'pickup_latitude', 'dropoff_longitude', 'dropoff_latitude', 'year', 'day', 'cumudays','store_and_fwd_flag','trip_duration'], 1)\n",
    "y=['trip_duration']\n",
    "rides_final_vars=rides_final.columns.values.tolist()\n",
    "X=[i for i in rides_final_vars]"
   ]
  },
  {
   "cell_type": "markdown",
   "metadata": {},
   "source": [
    "##### Now let's split the data to train and test and fit a gradient boosting model with 20 estimators. "
   ]
  },
  {
   "cell_type": "code",
   "execution_count": 357,
   "metadata": {
    "collapsed": false
   },
   "outputs": [],
   "source": [
    "rides=rides.reset_index(drop=True)\n",
    "from sklearn.model_selection import train_test_split\n",
    "X_train, X_test, y_train, y_test = train_test_split(rides[X], rides[y], test_size=0.33, random_state=42)"
   ]
  },
  {
   "cell_type": "code",
   "execution_count": 359,
   "metadata": {
    "collapsed": false
   },
   "outputs": [],
   "source": [
    "y_train=y_train.values"
   ]
  },
  {
   "cell_type": "code",
   "execution_count": 360,
   "metadata": {
    "collapsed": false
   },
   "outputs": [
    {
     "name": "stderr",
     "output_type": "stream",
     "text": [
      "C:\\Users\\bonos\\Anaconda3\\lib\\site-packages\\sklearn\\utils\\validation.py:526: DataConversionWarning: A column-vector y was passed when a 1d array was expected. Please change the shape of y to (n_samples, ), for example using ravel().\n",
      "  y = column_or_1d(y, warn=True)\n"
     ]
    }
   ],
   "source": [
    "from sklearn.ensemble import GradientBoostingRegressor\n",
    "params = {'n_estimators': 20, 'max_depth': 6,\n",
    "        'learning_rate': 0.1, 'loss': 'huber','alpha':0.95}\n",
    "clf = GradientBoostingRegressor(**params).fit(X_train, y_train)"
   ]
  },
  {
   "cell_type": "code",
   "execution_count": 361,
   "metadata": {
    "collapsed": false
   },
   "outputs": [
    {
     "name": "stdout",
     "output_type": "stream",
     "text": [
      "MSE_test: 137820.0243\n",
      "MSE_train: 137122.5671\n"
     ]
    }
   ],
   "source": [
    "from sklearn.metrics import mean_squared_error\n",
    "mse = mean_squared_error(y_test, clf.predict(X_test))\n",
    "print(\"MSE_test: %.4f\" % mse)\n",
    "mseT = mean_squared_error(y_train, clf.predict(X_train))\n",
    "print(\"MSE_train: %.4f\" % mseT)"
   ]
  },
  {
   "cell_type": "code",
   "execution_count": 368,
   "metadata": {
    "collapsed": false
   },
   "outputs": [],
   "source": [
    "y_pred = clf.predict(X_train)"
   ]
  },
  {
   "cell_type": "code",
   "execution_count": 380,
   "metadata": {
    "collapsed": false
   },
   "outputs": [
    {
     "data": {
      "text/html": [
       "<div>\n",
       "<table border=\"1\" class=\"dataframe\">\n",
       "  <thead>\n",
       "    <tr style=\"text-align: right;\">\n",
       "      <th></th>\n",
       "      <th>y_train</th>\n",
       "      <th>y_pred</th>\n",
       "    </tr>\n",
       "  </thead>\n",
       "  <tbody>\n",
       "    <tr>\n",
       "      <th>0</th>\n",
       "      <td>351</td>\n",
       "      <td>339.543002</td>\n",
       "    </tr>\n",
       "    <tr>\n",
       "      <th>1</th>\n",
       "      <td>1003</td>\n",
       "      <td>977.101994</td>\n",
       "    </tr>\n",
       "    <tr>\n",
       "      <th>2</th>\n",
       "      <td>2269</td>\n",
       "      <td>2347.980439</td>\n",
       "    </tr>\n",
       "    <tr>\n",
       "      <th>3</th>\n",
       "      <td>328</td>\n",
       "      <td>312.026657</td>\n",
       "    </tr>\n",
       "    <tr>\n",
       "      <th>4</th>\n",
       "      <td>3440</td>\n",
       "      <td>1332.198845</td>\n",
       "    </tr>\n",
       "  </tbody>\n",
       "</table>\n",
       "</div>"
      ],
      "text/plain": [
       "   y_train       y_pred\n",
       "0      351   339.543002\n",
       "1     1003   977.101994\n",
       "2     2269  2347.980439\n",
       "3      328   312.026657\n",
       "4     3440  1332.198845"
      ]
     },
     "execution_count": 380,
     "metadata": {},
     "output_type": "execute_result"
    }
   ],
   "source": [
    "yyplotx = pd.DataFrame(y_train)\n",
    "yyploty = pd.DataFrame(y_pred)\n",
    "yyplot=pd.concat([yyplotx,yyploty], axis=1)\n",
    "yyplot.columns=['y_train', 'y_pred']\n",
    "yyplot.head()"
   ]
  },
  {
   "cell_type": "code",
   "execution_count": 381,
   "metadata": {
    "collapsed": false
   },
   "outputs": [
    {
     "name": "stderr",
     "output_type": "stream",
     "text": [
      "C:\\Users\\bonos\\Anaconda3\\lib\\site-packages\\ipykernel\\__main__.py:1: FutureWarning: sort(columns=....) is deprecated, use sort_values(by=.....)\n",
      "  if __name__ == '__main__':\n"
     ]
    },
    {
     "data": {
      "text/plain": [
       "<matplotlib.axes._subplots.AxesSubplot at 0x1b5edc67e80>"
      ]
     },
     "execution_count": 381,
     "metadata": {},
     "output_type": "execute_result"
    },
    {
     "data": {
      "image/png": "[encoded data removed]",
      "text/plain": [
       "<matplotlib.figure.Figure at 0x1b5d5adbbe0>"
      ]
     },
     "metadata": {},
     "output_type": "display_data"
    }
   ],
   "source": [
    "yyplot=yyplot.sort(['y_train'])\n",
    "yyplot.plot(x='y_train', y='y_pred', marker='.')"
   ]
  },
  {
   "cell_type": "code",
   "execution_count": 382,
   "metadata": {
    "collapsed": false
   },
   "outputs": [],
   "source": [
    "yyplot['aperror']=abs(yyplot['y_train']-yyplot['y_pred'])/yyplot['y_train']"
   ]
  },
  {
   "cell_type": "markdown",
   "metadata": {},
   "source": [
    "##### We use a measure called mean absolute percent error (MAPE) to assess the goodness of fit of the model. For a gradient boosting model with 20 estimators MAPE is observed to be 41.7% which means on average model prediction has an inaccuracy close to 42% of actual observation. "
   ]
  },
  {
   "cell_type": "code",
   "execution_count": 385,
   "metadata": {
    "collapsed": false
   },
   "outputs": [
    {
     "data": {
      "text/plain": [
       "0.41730028870240193"
      ]
     },
     "execution_count": 385,
     "metadata": {},
     "output_type": "execute_result"
    }
   ],
   "source": [
    "yyplot['aperror'].mean()"
   ]
  },
  {
   "cell_type": "code",
   "execution_count": 386,
   "metadata": {
    "collapsed": false
   },
   "outputs": [
    {
     "data": {
      "text/plain": [
       "count    9.772910e+05\n",
       "mean     4.173003e-01\n",
       "std      4.959970e-01\n",
       "min      9.444290e-08\n",
       "25%      1.296555e-01\n",
       "50%      2.756897e-01\n",
       "75%      4.977003e-01\n",
       "max      2.421486e+01\n",
       "Name: aperror, dtype: float64"
      ]
     },
     "execution_count": 386,
     "metadata": {},
     "output_type": "execute_result"
    }
   ],
   "source": [
    "yyplot['aperror'].describe()"
   ]
  }
 ],
 "metadata": {
  "kernelspec": {
   "display_name": "Python 3",
   "language": "python",
   "name": "python3"
  },
  "language_info": {
   "codemirror_mode": {
    "name": "ipython",
    "version": 3
   },
   "file_extension": ".py",
   "mimetype": "text/x-python",
   "name": "python",
   "nbconvert_exporter": "python",
   "pygments_lexer": "ipython3",
   "version": "3.6.0"
  }
 },
 "nbformat": 4,
 "nbformat_minor": 2
}
